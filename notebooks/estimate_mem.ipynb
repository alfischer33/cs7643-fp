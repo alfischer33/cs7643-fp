{
 "cells": [
  {
   "cell_type": "code",
   "execution_count": null,
   "metadata": {},
   "outputs": [],
   "source": [
    "from transformers import AutoModelForSequenceClassification, AutoModelForCausalLM\n",
    "\n",
    "from deepspeed.runtime.zero.stage_1_and_2 import estimate_zero2_model_states_mem_needs_all_live\n",
    "from deepspeed.runtime.zero.stage3 import estimate_zero3_model_states_mem_needs_all_live"
   ]
  },
  {
   "cell_type": "code",
   "execution_count": null,
   "metadata": {},
   "outputs": [],
   "source": [
    "model = AutoModelForSequenceClassification.from_pretrained(\"EleutherAI/gpt-j-6B\", cache_dir=\"/pre-trained-transformers/large-lms\")\n",
    "# model = AutoModelForSequenceClassification.from_pretrained(\"facebook/opt-6.7b\", cache_dir=\"/pre-trained-transformers/large-lms\")\n",
    "# model = AutoModelForSequenceClassification.from_pretrained(\"facebook/opt-13b\", cache_dir=\"/pre-trained-transformers/large-lms\")\n",
    "# model = AutoModelForCausalLM.from_pretrained(\"EleutherAI/gpt-neox-20b\", cache_dir=\"/pre-trained-transformers/large-lms\")\n",
    "# model = AutoModelForSequenceClassification.from_pretrained(\"facebook/opt-30b\", cache_dir=\"/pre-trained-transformers/large-lms\")"
   ]
  },
  {
   "cell_type": "code",
   "execution_count": null,
   "metadata": {},
   "outputs": [],
   "source": [
    "estimate_zero2_model_states_mem_needs_all_live(model, num_gpus_per_node=4, num_nodes=1)"
   ]
  },
  {
   "cell_type": "code",
   "execution_count": null,
   "metadata": {},
   "outputs": [],
   "source": [
    "estimate_zero2_model_states_mem_needs_all_live(model, num_gpus_per_node=8, num_nodes=1)"
   ]
  },
  {
   "cell_type": "code",
   "execution_count": null,
   "metadata": {},
   "outputs": [],
   "source": [
    "estimate_zero3_model_states_mem_needs_all_live(model, num_gpus_per_node=4, num_nodes=1)"
   ]
  },
  {
   "cell_type": "code",
   "execution_count": null,
   "metadata": {},
   "outputs": [],
   "source": [
    "estimate_zero3_model_states_mem_needs_all_live(model, num_gpus_per_node=8, num_nodes=1)"
   ]
  },
  {
   "cell_type": "code",
   "execution_count": null,
   "metadata": {},
   "outputs": [],
   "source": []
  }
 ],
 "metadata": {
  "kernelspec": {
   "display_name": "Python 3.8.13 ('base')",
   "language": "python",
   "name": "python3"
  },
  "language_info": {
   "codemirror_mode": {
    "name": "ipython",
    "version": 3
   },
   "file_extension": ".py",
   "mimetype": "text/x-python",
   "name": "python",
   "nbconvert_exporter": "python",
   "pygments_lexer": "ipython3",
   "version": "3.8.13"
  },
  "orig_nbformat": 4,
  "vscode": {
   "interpreter": {
    "hash": "d4d1e4263499bec80672ea0156c357c1ee493ec2b1c70f0acce89fc37c4a6abe"
   }
  }
 },
 "nbformat": 4,
 "nbformat_minor": 2
}
